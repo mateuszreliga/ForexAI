{
 "cells": [
  {
   "cell_type": "code",
   "execution_count": 51,
   "metadata": {},
   "outputs": [],
   "source": [
    "import pandas as pd\n",
    "import numpy as np\n",
    "from sklearn.preprocessing import MinMaxScaler, OneHotEncoder\n",
    "from tensorflow.keras.models import Sequential\n",
    "from tensorflow.keras.layers import Dense, LSTM\n",
    "from tensorflow.keras.callbacks import EarlyStopping\n"
   ]
  },
  {
   "cell_type": "code",
   "execution_count": 52,
   "metadata": {},
   "outputs": [],
   "source": [
    "import pandas as pd\n",
    "\n",
    "df = pd.read_csv('USD_PLN Historical Data.csv', usecols=['Date', 'Price', 'Open', 'High', 'Low'])\n"
   ]
  },
  {
   "cell_type": "code",
   "execution_count": 53,
   "metadata": {},
   "outputs": [
    {
     "name": "stdout",
     "output_type": "stream",
     "text": [
      "Treningowe dane wejściowe i wyjściowe: (1719, 10, 4), (1719,)\n",
      "Testowe dane wejściowe i wyjściowe: (423, 10, 4), (423,)\n"
     ]
    }
   ],
   "source": [
    "from sklearn.preprocessing import MinMaxScaler\n",
    "import numpy as np\n",
    "\n",
    "# wybór kolumny z danymi, które będą używane do predykcji\n",
    "target_col = 'Price'\n",
    "\n",
    "# skalowanie danych do zakresu 0-1\n",
    "scaler = MinMaxScaler()\n",
    "df[target_col] = scaler.fit_transform(df[target_col].values.reshape(-1, 1))\n",
    "\n",
    "# podział danych na zbiór treningowy i testowy\n",
    "train_size = int(len(df) * 0.8)\n",
    "train_df = df.iloc[:train_size].copy()\n",
    "test_df = df.iloc[train_size:].copy()\n",
    "\n",
    "# funkcja pomocnicza do tworzenia sekwencji czasowych\n",
    "def create_sequences(X, y, time_steps=1):\n",
    "    Xs, ys = [], []\n",
    "    for i in range(len(X) - time_steps):\n",
    "        Xs.append(X.iloc[i:(i + time_steps)].values)\n",
    "        ys.append(y.iloc[i + time_steps])\n",
    "    return np.array(Xs), np.array(ys)\n",
    "\n",
    "# tworzenie sekwencji czasowych\n",
    "time_steps = 10\n",
    "\n",
    "X_train, y_train = create_sequences(train_df[['Price', 'Open', 'High', 'Low']], train_df[target_col], time_steps)\n",
    "X_test, y_test = create_sequences(test_df[['Price', 'Open', 'High', 'Low']], test_df[target_col], time_steps)\n",
    "\n",
    "print(f'Treningowe dane wejściowe i wyjściowe: {X_train.shape}, {y_train.shape}')\n",
    "print(f'Testowe dane wejściowe i wyjściowe: {X_test.shape}, {y_test.shape}')\n"
   ]
  },
  {
   "cell_type": "code",
   "execution_count": 54,
   "metadata": {},
   "outputs": [
    {
     "name": "stdout",
     "output_type": "stream",
     "text": [
      "Model: \"sequential_6\"\n",
      "_________________________________________________________________\n",
      " Layer (type)                Output Shape              Param #   \n",
      "=================================================================\n",
      " lstm_24 (LSTM)              (None, 10, 256)           267264    \n",
      "                                                                 \n",
      " dropout_24 (Dropout)        (None, 10, 256)           0         \n",
      "                                                                 \n",
      " lstm_25 (LSTM)              (None, 10, 128)           197120    \n",
      "                                                                 \n",
      " dropout_25 (Dropout)        (None, 10, 128)           0         \n",
      "                                                                 \n",
      " lstm_26 (LSTM)              (None, 10, 128)           131584    \n",
      "                                                                 \n",
      " dropout_26 (Dropout)        (None, 10, 128)           0         \n",
      "                                                                 \n",
      " lstm_27 (LSTM)              (None, 64)                49408     \n",
      "                                                                 \n",
      " dropout_27 (Dropout)        (None, 64)                0         \n",
      "                                                                 \n",
      " dense_6 (Dense)             (None, 1)                 65        \n",
      "                                                                 \n",
      "=================================================================\n",
      "Total params: 645,441\n",
      "Trainable params: 645,441\n",
      "Non-trainable params: 0\n",
      "_________________________________________________________________\n"
     ]
    }
   ],
   "source": [
    "from tensorflow.keras.models import Sequential\n",
    "from tensorflow.keras.layers import Dense, LSTM, Dropout\n",
    "\n",
    "model = Sequential([\n",
    "    LSTM(units=256, input_shape=(X_train.shape[1], X_train.shape[2]), return_sequences=True),\n",
    "    Dropout(0.1),\n",
    "    LSTM(units=128, return_sequences=True),\n",
    "    Dropout(0.1),\n",
    "    LSTM(units=128, return_sequences=True),\n",
    "    Dropout(0.1),\n",
    "    LSTM(units=64),\n",
    "    Dropout(0.1),\n",
    "    Dense(units=1)\n",
    "])\n",
    "\n",
    "model.compile(loss='mse', optimizer='adam', run_eagerly=True)\n",
    "model.summary()\n"
   ]
  },
  {
   "cell_type": "code",
   "execution_count": 55,
   "metadata": {},
   "outputs": [
    {
     "name": "stdout",
     "output_type": "stream",
     "text": [
      "Epoch 1/95\n",
      "49/49 [==============================] - 11s 232ms/step - loss: 0.0242 - val_loss: 0.0848\n",
      "Epoch 2/95\n",
      "49/49 [==============================] - 11s 235ms/step - loss: 0.0436 - val_loss: 0.0973\n",
      "Epoch 3/95\n",
      "49/49 [==============================] - 11s 229ms/step - loss: 0.0687 - val_loss: 0.0511\n",
      "Epoch 4/95\n",
      "49/49 [==============================] - 11s 230ms/step - loss: 0.0549 - val_loss: 0.0615\n",
      "Epoch 5/95\n",
      "49/49 [==============================] - 11s 229ms/step - loss: 0.0542 - val_loss: 0.0926\n",
      "Epoch 6/95\n",
      "49/49 [==============================] - 11s 230ms/step - loss: 0.0551 - val_loss: 0.0913\n",
      "Epoch 7/95\n",
      "49/49 [==============================] - 11s 229ms/step - loss: 0.0567 - val_loss: 0.0889\n",
      "Epoch 8/95\n",
      "49/49 [==============================] - 12s 236ms/step - loss: 0.0574 - val_loss: 0.0473\n",
      "Epoch 9/95\n",
      "49/49 [==============================] - 12s 240ms/step - loss: 0.0544 - val_loss: 0.0333\n",
      "Epoch 10/95\n",
      "49/49 [==============================] - 12s 243ms/step - loss: 0.0521 - val_loss: 0.0220\n",
      "Epoch 11/95\n",
      "49/49 [==============================] - 12s 243ms/step - loss: 0.0476 - val_loss: 0.0205\n",
      "Epoch 12/95\n",
      "49/49 [==============================] - 12s 243ms/step - loss: 0.0468 - val_loss: 0.0204\n",
      "Epoch 13/95\n",
      "49/49 [==============================] - 12s 240ms/step - loss: 0.0467 - val_loss: 0.0199\n",
      "Epoch 14/95\n",
      "49/49 [==============================] - 12s 241ms/step - loss: 0.0464 - val_loss: 0.0201\n",
      "Epoch 15/95\n",
      "49/49 [==============================] - 12s 242ms/step - loss: 0.0462 - val_loss: 0.0204\n",
      "Epoch 16/95\n",
      "49/49 [==============================] - 12s 240ms/step - loss: 0.0461 - val_loss: 0.0198\n",
      "Epoch 17/95\n",
      "49/49 [==============================] - 12s 241ms/step - loss: 0.0456 - val_loss: 0.0199\n",
      "Epoch 18/95\n",
      "49/49 [==============================] - 12s 241ms/step - loss: 0.0460 - val_loss: 0.0190\n",
      "Epoch 19/95\n",
      "49/49 [==============================] - 12s 241ms/step - loss: 0.0454 - val_loss: 0.0284\n",
      "Epoch 20/95\n",
      "49/49 [==============================] - 12s 248ms/step - loss: 0.0462 - val_loss: 0.0188\n",
      "Epoch 21/95\n",
      "49/49 [==============================] - 12s 248ms/step - loss: 0.0459 - val_loss: 0.0187\n",
      "Epoch 22/95\n",
      "49/49 [==============================] - 12s 244ms/step - loss: 0.0457 - val_loss: 0.0182\n",
      "Epoch 23/95\n",
      "49/49 [==============================] - 12s 244ms/step - loss: 0.0452 - val_loss: 0.0183\n",
      "Epoch 24/95\n",
      "49/49 [==============================] - 12s 243ms/step - loss: 0.0451 - val_loss: 0.0182\n",
      "Epoch 25/95\n",
      "49/49 [==============================] - 12s 243ms/step - loss: 0.0452 - val_loss: 0.0179\n",
      "Epoch 26/95\n",
      "49/49 [==============================] - 12s 243ms/step - loss: 0.0450 - val_loss: 0.0177\n",
      "Epoch 27/95\n",
      "49/49 [==============================] - 12s 241ms/step - loss: 0.0447 - val_loss: 0.0177\n",
      "Epoch 28/95\n",
      "49/49 [==============================] - 12s 243ms/step - loss: 0.0449 - val_loss: 0.0184\n",
      "Epoch 29/95\n",
      "49/49 [==============================] - 12s 243ms/step - loss: 0.0452 - val_loss: 0.0176\n",
      "Epoch 30/95\n",
      "49/49 [==============================] - 12s 242ms/step - loss: 0.0439 - val_loss: 0.0375\n",
      "Epoch 31/95\n",
      "49/49 [==============================] - 12s 242ms/step - loss: 0.0457 - val_loss: 0.0190\n",
      "Epoch 32/95\n",
      "49/49 [==============================] - 12s 240ms/step - loss: 0.0457 - val_loss: 0.0176\n",
      "Epoch 33/95\n",
      "49/49 [==============================] - 12s 242ms/step - loss: 0.0450 - val_loss: 0.0167\n",
      "Epoch 34/95\n",
      "49/49 [==============================] - 12s 241ms/step - loss: 0.0444 - val_loss: 0.0165\n",
      "Epoch 35/95\n",
      "49/49 [==============================] - 12s 242ms/step - loss: 0.0443 - val_loss: 0.0167\n",
      "Epoch 36/95\n",
      "49/49 [==============================] - 12s 243ms/step - loss: 0.0442 - val_loss: 0.0163\n",
      "Epoch 37/95\n",
      "49/49 [==============================] - 12s 241ms/step - loss: 0.0441 - val_loss: 0.0163\n",
      "Epoch 38/95\n",
      "49/49 [==============================] - 12s 245ms/step - loss: 0.0442 - val_loss: 0.0167\n",
      "Epoch 39/95\n",
      "49/49 [==============================] - 12s 246ms/step - loss: 0.0441 - val_loss: 0.0166\n",
      "Epoch 40/95\n",
      "49/49 [==============================] - 12s 246ms/step - loss: 0.0440 - val_loss: 0.0199\n",
      "Epoch 41/95\n",
      "49/49 [==============================] - 12s 242ms/step - loss: 0.0447 - val_loss: 0.0163\n",
      "Epoch 42/95\n",
      "49/49 [==============================] - 12s 242ms/step - loss: 0.0442 - val_loss: 0.0159\n",
      "Epoch 43/95\n",
      "49/49 [==============================] - 12s 240ms/step - loss: 0.0438 - val_loss: 0.0158\n",
      "Epoch 44/95\n",
      "49/49 [==============================] - 12s 241ms/step - loss: 0.0438 - val_loss: 0.0161\n",
      "Epoch 45/95\n",
      "49/49 [==============================] - 12s 242ms/step - loss: 0.0438 - val_loss: 0.0161\n",
      "Epoch 46/95\n",
      "49/49 [==============================] - 12s 243ms/step - loss: 0.0426 - val_loss: 0.0152\n",
      "Epoch 47/95\n",
      "49/49 [==============================] - 12s 241ms/step - loss: 0.0435 - val_loss: 0.0195\n",
      "Epoch 48/95\n",
      "49/49 [==============================] - 12s 240ms/step - loss: 0.0450 - val_loss: 0.0214\n",
      "Epoch 49/95\n",
      "49/49 [==============================] - 12s 241ms/step - loss: 0.0461 - val_loss: 0.0169\n",
      "Epoch 50/95\n",
      "49/49 [==============================] - 12s 242ms/step - loss: 0.0446 - val_loss: 0.0154\n",
      "Epoch 51/95\n",
      "49/49 [==============================] - 12s 246ms/step - loss: 0.0436 - val_loss: 0.0152\n",
      "Epoch 52/95\n",
      "49/49 [==============================] - 13s 261ms/step - loss: 0.0434 - val_loss: 0.0150\n",
      "Epoch 53/95\n",
      "49/49 [==============================] - 13s 261ms/step - loss: 0.0431 - val_loss: 0.0156\n",
      "Epoch 54/95\n",
      "49/49 [==============================] - 12s 245ms/step - loss: 0.0433 - val_loss: 0.0147\n",
      "Epoch 55/95\n",
      "49/49 [==============================] - 12s 247ms/step - loss: 0.0428 - val_loss: 0.0152\n",
      "Epoch 56/95\n",
      "49/49 [==============================] - 12s 242ms/step - loss: 0.0436 - val_loss: 0.0147\n",
      "Epoch 57/95\n",
      "49/49 [==============================] - 12s 242ms/step - loss: 0.0668 - val_loss: 0.0236\n",
      "Epoch 58/95\n",
      "49/49 [==============================] - 12s 242ms/step - loss: 0.0467 - val_loss: 0.0205\n",
      "Epoch 59/95\n",
      "49/49 [==============================] - 12s 241ms/step - loss: 0.0457 - val_loss: 0.0157\n",
      "Epoch 60/95\n",
      "49/49 [==============================] - 12s 244ms/step - loss: 0.0435 - val_loss: 0.0144\n",
      "Epoch 61/95\n",
      "49/49 [==============================] - 12s 240ms/step - loss: 0.0424 - val_loss: 0.0139\n",
      "Epoch 62/95\n",
      "49/49 [==============================] - 12s 243ms/step - loss: 0.0424 - val_loss: 0.0139\n",
      "Epoch 63/95\n",
      "49/49 [==============================] - 12s 241ms/step - loss: 0.0425 - val_loss: 0.0138\n",
      "Epoch 64/95\n",
      "49/49 [==============================] - 12s 241ms/step - loss: 0.0424 - val_loss: 0.0138\n",
      "Epoch 65/95\n",
      "49/49 [==============================] - 12s 243ms/step - loss: 0.0421 - val_loss: 0.0137\n",
      "Epoch 66/95\n",
      "49/49 [==============================] - 12s 241ms/step - loss: 0.0418 - val_loss: 0.0139\n",
      "Epoch 67/95\n",
      "49/49 [==============================] - 12s 240ms/step - loss: 0.0422 - val_loss: 0.0137\n",
      "Epoch 68/95\n",
      "49/49 [==============================] - 12s 242ms/step - loss: 0.0412 - val_loss: 0.0204\n",
      "Epoch 69/95\n",
      "49/49 [==============================] - 12s 241ms/step - loss: 0.0435 - val_loss: 0.0131\n",
      "Epoch 70/95\n",
      "49/49 [==============================] - 12s 244ms/step - loss: 0.0418 - val_loss: 0.0132\n",
      "Epoch 71/95\n",
      "49/49 [==============================] - 12s 242ms/step - loss: 0.0418 - val_loss: 0.0134\n",
      "Epoch 72/95\n",
      "49/49 [==============================] - 12s 243ms/step - loss: 0.0411 - val_loss: 0.0148\n",
      "Epoch 73/95\n",
      "49/49 [==============================] - 12s 241ms/step - loss: 0.0418 - val_loss: 0.0144\n",
      "Epoch 74/95\n",
      "49/49 [==============================] - 12s 241ms/step - loss: 0.0395 - val_loss: 0.0293\n",
      "Epoch 75/95\n",
      "49/49 [==============================] - 12s 244ms/step - loss: 0.0442 - val_loss: 0.0126\n",
      "Epoch 76/95\n",
      "49/49 [==============================] - 12s 240ms/step - loss: 0.0414 - val_loss: 0.0135\n",
      "Epoch 77/95\n",
      "49/49 [==============================] - 12s 241ms/step - loss: 0.0402 - val_loss: 0.0164\n",
      "Epoch 78/95\n",
      "49/49 [==============================] - 12s 240ms/step - loss: 0.0380 - val_loss: 0.0410\n",
      "Epoch 79/95\n",
      "49/49 [==============================] - 12s 241ms/step - loss: 0.0415 - val_loss: 0.0153\n",
      "Epoch 80/95\n",
      "49/49 [==============================] - 12s 242ms/step - loss: 0.0372 - val_loss: 0.0359\n",
      "Epoch 81/95\n",
      "49/49 [==============================] - 12s 242ms/step - loss: 0.0339 - val_loss: 0.0298\n",
      "Epoch 82/95\n",
      "49/49 [==============================] - 12s 247ms/step - loss: 0.0333 - val_loss: 0.0309\n",
      "Epoch 83/95\n",
      "49/49 [==============================] - 12s 242ms/step - loss: 0.0306 - val_loss: 0.0217\n",
      "Epoch 84/95\n",
      "49/49 [==============================] - 12s 241ms/step - loss: 0.0259 - val_loss: 0.0182\n",
      "Epoch 85/95\n",
      "49/49 [==============================] - 12s 241ms/step - loss: 0.0202 - val_loss: 0.0293\n",
      "Epoch 86/95\n",
      "49/49 [==============================] - 12s 241ms/step - loss: 0.0182 - val_loss: 0.0272\n",
      "Epoch 87/95\n",
      "49/49 [==============================] - 12s 240ms/step - loss: 0.0184 - val_loss: 0.0104\n",
      "Epoch 88/95\n",
      "49/49 [==============================] - 12s 242ms/step - loss: 0.0085 - val_loss: 0.0285\n",
      "Epoch 89/95\n",
      "49/49 [==============================] - 12s 243ms/step - loss: 0.0087 - val_loss: 0.0274\n",
      "Epoch 90/95\n",
      "49/49 [==============================] - 14s 277ms/step - loss: 0.0119 - val_loss: 0.0185\n",
      "Epoch 91/95\n",
      "49/49 [==============================] - 13s 264ms/step - loss: 0.0068 - val_loss: 0.0171\n",
      "Epoch 92/95\n",
      "49/49 [==============================] - 12s 246ms/step - loss: 0.0056 - val_loss: 0.0135\n",
      "Epoch 93/95\n",
      "49/49 [==============================] - 12s 247ms/step - loss: 0.0066 - val_loss: 0.0160\n",
      "Epoch 94/95\n",
      "49/49 [==============================] - 12s 247ms/step - loss: 0.0061 - val_loss: 0.0120\n",
      "Epoch 95/95\n",
      "49/49 [==============================] - 12s 244ms/step - loss: 0.0056 - val_loss: 0.0097\n"
     ]
    }
   ],
   "source": [
    "history = model.fit(\n",
    "    X_train, y_train,\n",
    "    epochs=95,\n",
    "    batch_size=32,\n",
    "    validation_split=0.1,\n",
    "    shuffle=False\n",
    ")\n"
   ]
  },
  {
   "cell_type": "code",
   "execution_count": 56,
   "metadata": {},
   "outputs": [],
   "source": [
    "model.save('model.h5')\n"
   ]
  },
  {
   "cell_type": "code",
   "execution_count": 57,
   "metadata": {},
   "outputs": [
    {
     "data": {
      "image/png": "[encoded data removed]",
      "text/plain": [
       "<Figure size 432x288 with 1 Axes>"
      ]
     },
     "metadata": {
      "needs_background": "light"
     },
     "output_type": "display_data"
    }
   ],
   "source": [
    "import matplotlib.pyplot as plt\n",
    "\n",
    "plt.plot(history.history['loss'], label='Treningowe')\n",
    "plt.plot(history.history['val_loss'], label='Walidacyjne')\n",
    "plt.title('Wykres uczenia')\n",
    "plt.xlabel('Epoki')\n",
    "plt.ylabel('MSE')\n",
    "plt.legend()\n",
    "plt.show()\n"
   ]
  },
  {
   "cell_type": "code",
   "execution_count": 58,
   "metadata": {},
   "outputs": [
    {
     "name": "stdout",
     "output_type": "stream",
     "text": [
      "14/14 [==============================] - 1s 89ms/step\n"
     ]
    },
    {
     "data": {
      "image/png": "[encoded data removed]",
      "text/plain": [
       "<Figure size 432x288 with 1 Axes>"
      ]
     },
     "metadata": {
      "needs_background": "light"
     },
     "output_type": "display_data"
    }
   ],
   "source": [
    "y_pred = model.predict(X_test)\n",
    "y_test = scaler.inverse_transform(y_test.reshape(-1, 1))\n",
    "y_pred = scaler.inverse_transform(y_pred)\n",
    "\n",
    "plt.plot(y_test, label='Rzeczywiste')\n",
    "plt.plot(y_pred, label='Predykcja')\n",
    "plt.title('Predykcja kursu USD/PLN')\n",
    "plt.xlabel('Próbki')\n",
    "plt.ylabel('Kurs')\n",
    "plt.legend()\n",
    "plt.show()"
   ]
  },
  {
   "cell_type": "code",
   "execution_count": 59,
   "metadata": {},
   "outputs": [],
   "source": [
    "df2 = pd.read_csv('USD_PLN Historical Data.csv', usecols=['Date', 'Price', 'Open', 'High', 'Low'])"
   ]
  },
  {
   "cell_type": "code",
   "execution_count": 60,
   "metadata": {},
   "outputs": [],
   "source": [
    "from keras.models import load_model\n",
    "\n",
    "model = load_model('model.h5')\n"
   ]
  },
  {
   "cell_type": "code",
   "execution_count": 61,
   "metadata": {},
   "outputs": [
    {
     "name": "stdout",
     "output_type": "stream",
     "text": [
      "Ostatnie 30 dni, na których opieramy predykcję:\n",
      "         Date   Price    Open    High     Low\n",
      "0 2023-04-14  4.2185  4.1950  4.2320  4.1834\n",
      "1 2023-04-13  4.1933  4.2320  4.2396  4.1901\n",
      "2 2023-04-12  4.2308  4.2769  4.2818  4.2280\n",
      "3 2023-04-11  4.2752  4.3178  4.3197  4.2695\n",
      "4 2023-04-10  4.3138  4.2847  4.3302  4.2845\n",
      "5 2023-04-07  4.2811  4.2909  4.3039  4.2814\n",
      "6 2023-04-06  4.2870  4.2956  4.3095  4.2819\n",
      "7 2023-04-05  4.2918  4.2701  4.3064  4.2623\n",
      "8 2023-04-04  4.2665  4.2867  4.2975  4.2625\n",
      "9 2023-04-03  4.2841  4.3163  4.3436  4.2832\n",
      "1/1 [==============================] - 1s 1s/step\n",
      "1/1 [==============================] - 0s 22ms/step\n",
      "1/1 [==============================] - 0s 22ms/step\n",
      "1/1 [==============================] - 0s 25ms/step\n",
      "1/1 [==============================] - 0s 22ms/step\n",
      "1/1 [==============================] - 0s 25ms/step\n",
      "1/1 [==============================] - 0s 27ms/step\n",
      "\n",
      "Przewidywane ceny na najbliższe 7 dni:\n",
      "         Date     Price\n",
      "0 2023-04-14  3.543817\n",
      "1 2023-04-15  3.508572\n",
      "2 2023-04-16  3.451469\n",
      "3 2023-04-17  3.391948\n",
      "4 2023-04-18  3.351097\n",
      "5 2023-04-19  3.338264\n",
      "6 2023-04-20  3.352258\n"
     ]
    }
   ],
   "source": [
    "import datetime\n",
    "import pandas as pd\n",
    "\n",
    "# Konwertowanie kolumny 'Date' na obiekt datetime\n",
    "df2['Date'] = pd.to_datetime(df2['Date'])\n",
    "df2 = df2.sort_values(by='Date', ascending=False)\n",
    "\n",
    "# Tworzenie sekwencji czasowych\n",
    "time_stepsp = 10\n",
    "X, y = create_sequences(df2[['Price', 'Open', 'High', 'Low']], df2['Price'], time_steps)\n",
    "print(\"Ostatnie 30 dni, na których opieramy predykcję:\\n\", df2[['Date', 'Price', 'Open', 'High', 'Low']].head(time_stepsp))\n",
    "\n",
    "# Skalowanie danych\n",
    "scaler = MinMaxScaler()\n",
    "df2['Price'] = scaler.fit_transform(df2['Price'].values.reshape(-1, 1))\n",
    "\n",
    "# Tworzenie sekwencji czasowych\n",
    "time_steps = 10\n",
    "X, y = create_sequences(df2[['Price', 'Open', 'High', 'Low']], df2['Price'], time_steps)\n",
    "\n",
    "# Wczytanie modelu\n",
    "model = load_model('model.h5')\n",
    "\n",
    "# Przewidywanie cen na kolejne 7 dni\n",
    "predictions = []\n",
    "current_sequence = X[-1]\n",
    "for i in range(7):\n",
    "    current_sequence = current_sequence.reshape(1, time_steps, 4)\n",
    "    next_prediction = model.predict(current_sequence)\n",
    "    last_date = df2['Date'].max()\n",
    "    next_date = last_date + datetime.timedelta(days=1)\n",
    "    predictions.append((next_date, next_prediction[0, 0]))\n",
    "    new_prediction = np.array([[next_prediction[0, 0], 0, 0, 0]]).reshape(1, 1, 4)\n",
    "    current_sequence = np.concatenate([current_sequence[:, 1:, :], new_prediction], axis=1)\n",
    "\n",
    "# Odwrócenie skali i wyświetlenie wyników\n",
    "predictions = scaler.inverse_transform(np.array(predictions)[:, 1].reshape(-1, 1))\n",
    "date_range = pd.date_range(start=df2['Date'].max(), periods=7, freq='D')\n",
    "predictions_with_dates = pd.DataFrame({'Date': date_range, 'Price': predictions.flatten()})\n",
    "print(\"\\nPrzewidywane ceny na najbliższe 7 dni:\\n\", predictions_with_dates)\n"
   ]
  },
  {
   "cell_type": "code",
   "execution_count": 62,
   "metadata": {},
   "outputs": [
    {
     "name": "stdout",
     "output_type": "stream",
     "text": [
      "1/1 [==============================] - 1s 1s/step\n",
      "1/1 [==============================] - 0s 24ms/step\n",
      "1/1 [==============================] - 0s 22ms/step\n",
      "1/1 [==============================] - 0s 23ms/step\n",
      "1/1 [==============================] - 0s 25ms/step\n",
      "1/1 [==============================] - 0s 23ms/step\n",
      "1/1 [==============================] - 0s 21ms/step\n"
     ]
    },
    {
     "name": "stderr",
     "output_type": "stream",
     "text": [
      "C:\\Users\\mreliga\\AppData\\Local\\Temp\\ipykernel_22572\\2966324061.py:30: SettingWithCopyWarning: \n",
      "A value is trying to be set on a copy of a slice from a DataFrame.\n",
      "Try using .loc[row_indexer,col_indexer] = value instead\n",
      "\n",
      "See the caveats in the documentation: https://pandas.pydata.org/pandas-docs/stable/user_guide/indexing.html#returning-a-view-versus-a-copy\n",
      "  historical_data['Price'] = scaler.inverse_transform(historical_data['Price'].values.reshape(-1, 1))\n"
     ]
    },
    {
     "data": {
      "image/png": "[encoded data removed]",
      "text/plain": [
       "<Figure size 864x432 with 1 Axes>"
      ]
     },
     "metadata": {
      "needs_background": "light"
     },
     "output_type": "display_data"
    }
   ],
   "source": [
    "import datetime\n",
    "import pandas as pd\n",
    "import matplotlib.pyplot as plt\n",
    "\n",
    "# Konwertowanie kolumny 'Date' na obiekt datetime\n",
    "df2['Date'] = pd.to_datetime(df2['Date'])\n",
    "df2 = df2.sort_values(by='Date', ascending=False)\n",
    "\n",
    "# Wczytanie modelu\n",
    "model = load_model('model.h5')\n",
    "\n",
    "# Tworzenie sekwencji czasowych\n",
    "time_steps = 10\n",
    "X, y = create_sequences(df2[['Price', 'Open', 'High', 'Low']], df2['Price'], time_steps)\n",
    "\n",
    "# Przewidywanie cen na kolejne 7 dni\n",
    "predictions = []\n",
    "current_sequence = X[-1]\n",
    "for i in range(7):\n",
    "    current_sequence = current_sequence.reshape(1, time_steps, 4)\n",
    "    next_prediction = model.predict(current_sequence)\n",
    "    last_date = df2['Date'].max()\n",
    "    next_date = last_date + datetime.timedelta(days=1)\n",
    "    predictions.append((next_date, next_prediction[0, 0]))\n",
    "    new_prediction = np.array([[next_prediction[0, 0], 0, 0, 0]]).reshape(1, 1, 4)\n",
    "    current_sequence = np.concatenate([current_sequence[:, 1:, :], new_prediction], axis=1)\n",
    "\n",
    "# Odwrócenie skali i przygotowanie danych do wykresu\n",
    "historical_data = df2.head(time_steps)\n",
    "historical_data['Price'] = scaler.inverse_transform(historical_data['Price'].values.reshape(-1, 1))\n",
    "historical_data = historical_data.set_index('Date')\n",
    "predictions = scaler.inverse_transform(np.array(predictions)[:, 1].reshape(-1, 1))\n",
    "date_range = pd.date_range(start=df2['Date'].max(), periods=7, freq='D')\n",
    "predictions_with_dates = pd.DataFrame({'Date': date_range, 'Price': predictions.flatten()})\n",
    "predictions_with_dates = predictions_with_dates.set_index('Date')\n",
    "\n",
    "# Wyświetlenie danych na wykresie\n",
    "fig, ax = plt.subplots(figsize=(12, 6))\n",
    "ax.plot(historical_data['Price'], label='Ceny historyczne')\n",
    "ax.plot(predictions_with_dates['Price'], label='Przewidywane ceny')\n",
    "ax.set_xlabel('Data')\n",
    "ax.set_ylabel('Cena')\n",
    "ax.set_title('Ceny historyczne i przewidywane ceny')\n",
    "ax.legend()\n",
    "plt.show();\n"
   ]
  }
 ],
 "metadata": {
  "kernelspec": {
   "display_name": "base",
   "language": "python",
   "name": "python3"
  },
  "language_info": {
   "codemirror_mode": {
    "name": "ipython",
    "version": 3
   },
   "file_extension": ".py",
   "mimetype": "text/x-python",
   "name": "python",
   "nbconvert_exporter": "python",
   "pygments_lexer": "ipython3",
   "version": "3.9.12"
  },
  "orig_nbformat": 4,
  "vscode": {
   "interpreter": {
    "hash": "1af9059b290fdfb768d19db47f0c890aa8e7e36c4739f9669e9a281b60f8911f"
   }
  }
 },
 "nbformat": 4,
 "nbformat_minor": 2
}
