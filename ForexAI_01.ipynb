{
 "cells": [
  {
   "cell_type": "code",
   "execution_count": 232,
   "metadata": {},
   "outputs": [],
   "source": [
    "import pandas as pd\n",
    "import numpy as np\n",
    "from sklearn.preprocessing import MinMaxScaler, OneHotEncoder\n",
    "from tensorflow.keras.models import Sequential\n",
    "from tensorflow.keras.layers import Dense, LSTM\n",
    "from tensorflow.keras.callbacks import EarlyStopping\n"
   ]
  },
  {
   "cell_type": "code",
   "execution_count": 233,
   "metadata": {},
   "outputs": [],
   "source": [
    "import pandas as pd\n",
    "\n",
    "df = pd.read_csv('USD_PLN Historical Data.csv', usecols=['Date', 'Price', 'Open', 'High', 'Low'])\n"
   ]
  },
  {
   "cell_type": "code",
   "execution_count": 234,
   "metadata": {},
   "outputs": [
    {
     "name": "stdout",
     "output_type": "stream",
     "text": [
      "Treningowe dane wejściowe i wyjściowe: (885, 10, 4), (885,)\n",
      "Testowe dane wejściowe i wyjściowe: (214, 10, 4), (214,)\n"
     ]
    }
   ],
   "source": [
    "from sklearn.preprocessing import MinMaxScaler\n",
    "import numpy as np\n",
    "\n",
    "# wybór kolumny z danymi, które będą używane do predykcji\n",
    "target_col = 'Price'\n",
    "\n",
    "# skalowanie danych do zakresu 0-1\n",
    "scaler = MinMaxScaler()\n",
    "df[target_col] = scaler.fit_transform(df[target_col].values.reshape(-1, 1))\n",
    "\n",
    "# podział danych na zbiór treningowy i testowy\n",
    "train_size = int(len(df) * 0.8)\n",
    "train_df = df.iloc[:train_size].copy()\n",
    "test_df = df.iloc[train_size:].copy()\n",
    "\n",
    "# funkcja pomocnicza do tworzenia sekwencji czasowych\n",
    "def create_sequences(X, y, time_steps=1):\n",
    "    Xs, ys = [], []\n",
    "    for i in range(len(X) - time_steps):\n",
    "        Xs.append(X.iloc[i:(i + time_steps)].values)\n",
    "        ys.append(y.iloc[i + time_steps])\n",
    "    return np.array(Xs), np.array(ys)\n",
    "\n",
    "# tworzenie sekwencji czasowych\n",
    "time_steps = 10\n",
    "\n",
    "X_train, y_train = create_sequences(train_df[['Price', 'Open', 'High', 'Low']], train_df[target_col], time_steps)\n",
    "X_test, y_test = create_sequences(test_df[['Price', 'Open', 'High', 'Low']], test_df[target_col], time_steps)\n",
    "\n",
    "print(f'Treningowe dane wejściowe i wyjściowe: {X_train.shape}, {y_train.shape}')\n",
    "print(f'Testowe dane wejściowe i wyjściowe: {X_test.shape}, {y_test.shape}')\n"
   ]
  },
  {
   "cell_type": "code",
   "execution_count": 235,
   "metadata": {},
   "outputs": [
    {
     "name": "stdout",
     "output_type": "stream",
     "text": [
      "Model: \"sequential_19\"\n",
      "_________________________________________________________________\n",
      " Layer (type)                Output Shape              Param #   \n",
      "=================================================================\n",
      " lstm_58 (LSTM)              (None, 10, 128)           68096     \n",
      "                                                                 \n",
      " dropout_58 (Dropout)        (None, 10, 128)           0         \n",
      "                                                                 \n",
      " lstm_59 (LSTM)              (None, 10, 64)            49408     \n",
      "                                                                 \n",
      " dropout_59 (Dropout)        (None, 10, 64)            0         \n",
      "                                                                 \n",
      " lstm_60 (LSTM)              (None, 10, 32)            12416     \n",
      "                                                                 \n",
      " dropout_60 (Dropout)        (None, 10, 32)            0         \n",
      "                                                                 \n",
      " lstm_61 (LSTM)              (None, 16)                3136      \n",
      "                                                                 \n",
      " dropout_61 (Dropout)        (None, 16)                0         \n",
      "                                                                 \n",
      " dense_18 (Dense)            (None, 1)                 17        \n",
      "                                                                 \n",
      "=================================================================\n",
      "Total params: 133,073\n",
      "Trainable params: 133,073\n",
      "Non-trainable params: 0\n",
      "_________________________________________________________________\n"
     ]
    }
   ],
   "source": [
    "from tensorflow.keras.models import Sequential\n",
    "from tensorflow.keras.layers import Dense, LSTM, Dropout\n",
    "\n",
    "model = Sequential([\n",
    "    LSTM(units=128, input_shape=(X_train.shape[1], X_train.shape[2]), return_sequences=True),\n",
    "    Dropout(0.2),\n",
    "    LSTM(units=64, return_sequences=True),\n",
    "    Dropout(0.2),\n",
    "    LSTM(units=32, return_sequences=True),\n",
    "    Dropout(0.2),\n",
    "    LSTM(units=16),\n",
    "    Dropout(0.2),\n",
    "    Dense(units=1)\n",
    "])\n",
    "\n",
    "model.compile(loss='mse', optimizer='adam', run_eagerly=True)\n",
    "model.summary()\n"
   ]
  },
  {
   "cell_type": "code",
   "execution_count": 236,
   "metadata": {},
   "outputs": [
    {
     "name": "stdout",
     "output_type": "stream",
     "text": [
      "Epoch 1/80\n",
      "25/25 [==============================] - 5s 213ms/step - loss: 0.0765 - val_loss: 0.0086\n",
      "Epoch 2/80\n",
      "25/25 [==============================] - 5s 203ms/step - loss: 0.1302 - val_loss: 0.0081\n",
      "Epoch 3/80\n",
      "25/25 [==============================] - 5s 211ms/step - loss: 0.1173 - val_loss: 0.0087\n",
      "Epoch 4/80\n",
      "25/25 [==============================] - 5s 207ms/step - loss: 0.0872 - val_loss: 0.0149\n",
      "Epoch 5/80\n",
      "25/25 [==============================] - 5s 214ms/step - loss: 0.0778 - val_loss: 0.0134\n",
      "Epoch 6/80\n",
      "25/25 [==============================] - 5s 213ms/step - loss: 0.0790 - val_loss: 0.0133\n",
      "Epoch 7/80\n",
      "25/25 [==============================] - 5s 212ms/step - loss: 0.0758 - val_loss: 0.0121\n",
      "Epoch 8/80\n",
      "25/25 [==============================] - 5s 213ms/step - loss: 0.0759 - val_loss: 0.0121\n",
      "Epoch 9/80\n",
      "25/25 [==============================] - 5s 209ms/step - loss: 0.0738 - val_loss: 0.0115\n",
      "Epoch 10/80\n",
      "25/25 [==============================] - 5s 209ms/step - loss: 0.0744 - val_loss: 0.0097\n",
      "Epoch 11/80\n",
      "25/25 [==============================] - 6s 230ms/step - loss: 0.0755 - val_loss: 0.0082\n",
      "Epoch 12/80\n",
      "25/25 [==============================] - 5s 213ms/step - loss: 0.0739 - val_loss: 0.0064\n",
      "Epoch 13/80\n",
      "25/25 [==============================] - 5s 206ms/step - loss: 0.0744 - val_loss: 0.0068\n",
      "Epoch 14/80\n",
      "25/25 [==============================] - 5s 211ms/step - loss: 0.0708 - val_loss: 0.0023\n",
      "Epoch 15/80\n",
      "25/25 [==============================] - 5s 217ms/step - loss: 0.0740 - val_loss: 0.0054\n",
      "Epoch 16/80\n",
      "25/25 [==============================] - 5s 212ms/step - loss: 0.0671 - val_loss: 0.0063\n",
      "Epoch 17/80\n",
      "25/25 [==============================] - 5s 212ms/step - loss: 0.0775 - val_loss: 0.0095\n",
      "Epoch 18/80\n",
      "25/25 [==============================] - 5s 213ms/step - loss: 0.0619 - val_loss: 0.0022\n",
      "Epoch 19/80\n",
      "25/25 [==============================] - 5s 216ms/step - loss: 0.0649 - val_loss: 0.0077\n",
      "Epoch 20/80\n",
      "25/25 [==============================] - 5s 209ms/step - loss: 0.0576 - val_loss: 0.0116\n",
      "Epoch 21/80\n",
      "25/25 [==============================] - 5s 209ms/step - loss: 0.0529 - val_loss: 0.0132\n",
      "Epoch 22/80\n",
      "25/25 [==============================] - 5s 208ms/step - loss: 0.0500 - val_loss: 0.0124\n",
      "Epoch 23/80\n",
      "25/25 [==============================] - 5s 210ms/step - loss: 0.0416 - val_loss: 0.0079\n",
      "Epoch 24/80\n",
      "25/25 [==============================] - 5s 211ms/step - loss: 0.0355 - val_loss: 0.0083\n",
      "Epoch 25/80\n",
      "25/25 [==============================] - 5s 209ms/step - loss: 0.0266 - val_loss: 0.0056\n",
      "Epoch 26/80\n",
      "25/25 [==============================] - 5s 219ms/step - loss: 0.0220 - val_loss: 0.0056\n",
      "Epoch 27/80\n",
      "25/25 [==============================] - 5s 208ms/step - loss: 0.0168 - val_loss: 0.0045\n",
      "Epoch 28/80\n",
      "25/25 [==============================] - 5s 211ms/step - loss: 0.0158 - val_loss: 0.0048\n",
      "Epoch 29/80\n",
      "25/25 [==============================] - 6s 235ms/step - loss: 0.0155 - val_loss: 0.0042\n",
      "Epoch 30/80\n",
      "25/25 [==============================] - 6s 220ms/step - loss: 0.0121 - val_loss: 0.0036\n",
      "Epoch 31/80\n",
      "25/25 [==============================] - 6s 232ms/step - loss: 0.0135 - val_loss: 0.0041\n",
      "Epoch 32/80\n",
      "25/25 [==============================] - 5s 182ms/step - loss: 0.0134 - val_loss: 0.0037\n",
      "Epoch 33/80\n",
      "25/25 [==============================] - 5s 184ms/step - loss: 0.0142 - val_loss: 0.0043\n",
      "Epoch 34/80\n",
      "25/25 [==============================] - 5s 182ms/step - loss: 0.0111 - val_loss: 0.0036\n",
      "Epoch 35/80\n",
      "25/25 [==============================] - 5s 184ms/step - loss: 0.0117 - val_loss: 0.0031\n",
      "Epoch 36/80\n",
      "25/25 [==============================] - 5s 183ms/step - loss: 0.0123 - val_loss: 0.0037\n",
      "Epoch 37/80\n",
      "25/25 [==============================] - 5s 188ms/step - loss: 0.0128 - val_loss: 0.0038\n",
      "Epoch 38/80\n",
      "25/25 [==============================] - 4s 180ms/step - loss: 0.0097 - val_loss: 0.0035\n",
      "Epoch 39/80\n",
      "25/25 [==============================] - 5s 191ms/step - loss: 0.0079 - val_loss: 0.0032\n",
      "Epoch 40/80\n",
      "25/25 [==============================] - 4s 179ms/step - loss: 0.0097 - val_loss: 0.0033\n",
      "Epoch 41/80\n",
      "25/25 [==============================] - 4s 177ms/step - loss: 0.0117 - val_loss: 0.0037\n",
      "Epoch 42/80\n",
      "25/25 [==============================] - 4s 179ms/step - loss: 0.0100 - val_loss: 0.0029\n",
      "Epoch 43/80\n",
      "25/25 [==============================] - 4s 178ms/step - loss: 0.0106 - val_loss: 0.0032\n",
      "Epoch 44/80\n",
      "25/25 [==============================] - 5s 181ms/step - loss: 0.0095 - val_loss: 0.0037\n",
      "Epoch 45/80\n",
      "25/25 [==============================] - 4s 179ms/step - loss: 0.0091 - val_loss: 0.0029\n",
      "Epoch 46/80\n",
      "25/25 [==============================] - 4s 179ms/step - loss: 0.0088 - val_loss: 0.0029\n",
      "Epoch 47/80\n",
      "25/25 [==============================] - 4s 179ms/step - loss: 0.0111 - val_loss: 0.0031\n",
      "Epoch 48/80\n",
      "25/25 [==============================] - 4s 177ms/step - loss: 0.0091 - val_loss: 0.0035\n",
      "Epoch 49/80\n",
      "25/25 [==============================] - 4s 180ms/step - loss: 0.0085 - val_loss: 0.0029\n",
      "Epoch 50/80\n",
      "25/25 [==============================] - 4s 176ms/step - loss: 0.0115 - val_loss: 0.0030\n",
      "Epoch 51/80\n",
      "25/25 [==============================] - 4s 178ms/step - loss: 0.0110 - val_loss: 0.0035\n",
      "Epoch 52/80\n",
      "25/25 [==============================] - 4s 178ms/step - loss: 0.0113 - val_loss: 0.0031\n",
      "Epoch 53/80\n",
      "25/25 [==============================] - 4s 177ms/step - loss: 0.0086 - val_loss: 0.0030\n",
      "Epoch 54/80\n",
      "25/25 [==============================] - 5s 190ms/step - loss: 0.0080 - val_loss: 0.0032\n",
      "Epoch 55/80\n",
      "25/25 [==============================] - 4s 180ms/step - loss: 0.0079 - val_loss: 0.0023\n",
      "Epoch 56/80\n",
      "25/25 [==============================] - 4s 178ms/step - loss: 0.0105 - val_loss: 0.0033\n",
      "Epoch 57/80\n",
      "25/25 [==============================] - 5s 182ms/step - loss: 0.0079 - val_loss: 0.0026\n",
      "Epoch 58/80\n",
      "25/25 [==============================] - 5s 181ms/step - loss: 0.0108 - val_loss: 0.0028\n",
      "Epoch 59/80\n",
      "25/25 [==============================] - 4s 180ms/step - loss: 0.0080 - val_loss: 0.0029\n",
      "Epoch 60/80\n",
      "25/25 [==============================] - 4s 178ms/step - loss: 0.0078 - val_loss: 0.0025\n",
      "Epoch 61/80\n",
      "25/25 [==============================] - 4s 180ms/step - loss: 0.0091 - val_loss: 0.0028\n",
      "Epoch 62/80\n",
      "25/25 [==============================] - 4s 180ms/step - loss: 0.0080 - val_loss: 0.0028\n",
      "Epoch 63/80\n",
      "25/25 [==============================] - 4s 179ms/step - loss: 0.0090 - val_loss: 0.0027\n",
      "Epoch 64/80\n",
      "25/25 [==============================] - 4s 179ms/step - loss: 0.0086 - val_loss: 0.0025\n",
      "Epoch 65/80\n",
      "25/25 [==============================] - 4s 179ms/step - loss: 0.0098 - val_loss: 0.0027\n",
      "Epoch 66/80\n",
      "25/25 [==============================] - 4s 180ms/step - loss: 0.0074 - val_loss: 0.0025\n",
      "Epoch 67/80\n",
      "25/25 [==============================] - 5s 184ms/step - loss: 0.0088 - val_loss: 0.0025\n",
      "Epoch 68/80\n",
      "25/25 [==============================] - 5s 182ms/step - loss: 0.0075 - val_loss: 0.0028\n",
      "Epoch 69/80\n",
      "25/25 [==============================] - 4s 180ms/step - loss: 0.0098 - val_loss: 0.0023\n",
      "Epoch 70/80\n",
      "25/25 [==============================] - 5s 181ms/step - loss: 0.0087 - val_loss: 0.0028\n",
      "Epoch 71/80\n",
      "25/25 [==============================] - 4s 178ms/step - loss: 0.0079 - val_loss: 0.0024\n",
      "Epoch 72/80\n",
      "25/25 [==============================] - 5s 180ms/step - loss: 0.0088 - val_loss: 0.0023\n",
      "Epoch 73/80\n",
      "25/25 [==============================] - 4s 179ms/step - loss: 0.0076 - val_loss: 0.0024\n",
      "Epoch 74/80\n",
      "25/25 [==============================] - 5s 182ms/step - loss: 0.0075 - val_loss: 0.0025\n",
      "Epoch 75/80\n",
      "25/25 [==============================] - 4s 176ms/step - loss: 0.0072 - val_loss: 0.0020\n",
      "Epoch 76/80\n",
      "25/25 [==============================] - 4s 180ms/step - loss: 0.0069 - val_loss: 0.0024\n",
      "Epoch 77/80\n",
      "25/25 [==============================] - 5s 181ms/step - loss: 0.0084 - val_loss: 0.0023\n",
      "Epoch 78/80\n",
      "25/25 [==============================] - 5s 182ms/step - loss: 0.0081 - val_loss: 0.0022\n",
      "Epoch 79/80\n",
      "25/25 [==============================] - 4s 179ms/step - loss: 0.0061 - val_loss: 0.0023\n",
      "Epoch 80/80\n",
      "25/25 [==============================] - 4s 179ms/step - loss: 0.0075 - val_loss: 0.0022\n"
     ]
    }
   ],
   "source": [
    "history = model.fit(\n",
    "    X_train, y_train,\n",
    "    epochs=80,\n",
    "    batch_size=32,\n",
    "    validation_split=0.1,\n",
    "    shuffle=False\n",
    ")\n"
   ]
  },
  {
   "cell_type": "code",
   "execution_count": 237,
   "metadata": {},
   "outputs": [],
   "source": [
    "model.save('model.h5')\n"
   ]
  },
  {
   "cell_type": "code",
   "execution_count": 238,
   "metadata": {},
   "outputs": [
    {
     "data": {
      "image/png": "[encoded data removed]",
      "text/plain": [
       "<Figure size 432x288 with 1 Axes>"
      ]
     },
     "metadata": {
      "needs_background": "light"
     },
     "output_type": "display_data"
    }
   ],
   "source": [
    "import matplotlib.pyplot as plt\n",
    "\n",
    "plt.plot(history.history['loss'], label='Treningowe')\n",
    "plt.plot(history.history['val_loss'], label='Walidacyjne')\n",
    "plt.title('Wykres uczenia')\n",
    "plt.xlabel('Epoki')\n",
    "plt.ylabel('MSE')\n",
    "plt.legend()\n",
    "plt.show()\n"
   ]
  },
  {
   "cell_type": "code",
   "execution_count": 239,
   "metadata": {},
   "outputs": [
    {
     "name": "stdout",
     "output_type": "stream",
     "text": [
      "7/7 [==============================] - 0s 69ms/step\n"
     ]
    },
    {
     "data": {
      "image/png": "[encoded data removed]",
      "text/plain": [
       "<Figure size 432x288 with 1 Axes>"
      ]
     },
     "metadata": {
      "needs_background": "light"
     },
     "output_type": "display_data"
    }
   ],
   "source": [
    "y_pred = model.predict(X_test)\n",
    "y_test = scaler.inverse_transform(y_test.reshape(-1, 1))\n",
    "y_pred = scaler.inverse_transform(y_pred)\n",
    "\n",
    "plt.plot(y_test, label='Rzeczywiste')\n",
    "plt.plot(y_pred, label='Predykcja')\n",
    "plt.title('Predykcja kursu USD/PLN')\n",
    "plt.xlabel('Próbki')\n",
    "plt.ylabel('Kurs')\n",
    "plt.legend()\n",
    "plt.show()"
   ]
  },
  {
   "cell_type": "code",
   "execution_count": 240,
   "metadata": {},
   "outputs": [],
   "source": [
    "df2 = pd.read_csv('USD_PLN Historical Data.csv', usecols=['Date', 'Price', 'Open', 'High', 'Low'])"
   ]
  },
  {
   "cell_type": "code",
   "execution_count": 241,
   "metadata": {},
   "outputs": [],
   "source": [
    "from keras.models import load_model\n",
    "\n",
    "model = load_model('model.h5')\n"
   ]
  },
  {
   "cell_type": "code",
   "execution_count": 242,
   "metadata": {},
   "outputs": [
    {
     "name": "stdout",
     "output_type": "stream",
     "text": [
      "Ostatnie 30 dni, na których opieramy predykcję:\n",
      "         Date   Price    Open    High     Low\n",
      "0 2023-04-14  4.2185  4.1950  4.2320  4.1834\n",
      "1 2023-04-13  4.1933  4.2320  4.2396  4.1901\n",
      "2 2023-04-12  4.2308  4.2769  4.2818  4.2280\n",
      "3 2023-04-11  4.2752  4.3178  4.3197  4.2695\n",
      "4 2023-04-10  4.3138  4.2847  4.3302  4.2845\n",
      "5 2023-04-07  4.2811  4.2909  4.3039  4.2814\n",
      "6 2023-04-06  4.2870  4.2956  4.3095  4.2819\n",
      "7 2023-04-05  4.2918  4.2701  4.3064  4.2623\n",
      "8 2023-04-04  4.2665  4.2867  4.2975  4.2625\n",
      "9 2023-04-03  4.2841  4.3163  4.3436  4.2832\n",
      "1/1 [==============================] - 1s 1s/step\n",
      "1/1 [==============================] - 0s 22ms/step\n",
      "1/1 [==============================] - 0s 22ms/step\n",
      "1/1 [==============================] - 0s 21ms/step\n",
      "1/1 [==============================] - 0s 21ms/step\n",
      "1/1 [==============================] - 0s 21ms/step\n",
      "1/1 [==============================] - 0s 21ms/step\n",
      "\n",
      "Przewidywane ceny na najbliższe 7 dni:\n",
      "         Date     Price\n",
      "0 2023-04-14  3.736963\n",
      "1 2023-04-15  3.732520\n",
      "2 2023-04-16  3.716127\n",
      "3 2023-04-17  3.689543\n",
      "4 2023-04-18  3.659582\n",
      "5 2023-04-19  3.633997\n",
      "6 2023-04-20  3.620012\n"
     ]
    }
   ],
   "source": [
    "import datetime\n",
    "import pandas as pd\n",
    "\n",
    "# Konwertowanie kolumny 'Date' na obiekt datetime\n",
    "df2['Date'] = pd.to_datetime(df2['Date'])\n",
    "df2 = df2.sort_values(by='Date', ascending=False)\n",
    "\n",
    "# Tworzenie sekwencji czasowych\n",
    "time_stepsp = 10\n",
    "X, y = create_sequences(df2[['Price', 'Open', 'High', 'Low']], df2['Price'], time_steps)\n",
    "print(\"Ostatnie 30 dni, na których opieramy predykcję:\\n\", df2[['Date', 'Price', 'Open', 'High', 'Low']].head(time_stepsp))\n",
    "\n",
    "# Skalowanie danych\n",
    "scaler = MinMaxScaler()\n",
    "df2['Price'] = scaler.fit_transform(df2['Price'].values.reshape(-1, 1))\n",
    "\n",
    "# Tworzenie sekwencji czasowych\n",
    "time_steps = 10\n",
    "X, y = create_sequences(df2[['Price', 'Open', 'High', 'Low']], df2['Price'], time_steps)\n",
    "\n",
    "# Wczytanie modelu\n",
    "model = load_model('model.h5')\n",
    "\n",
    "# Przewidywanie cen na kolejne 7 dni\n",
    "predictions = []\n",
    "current_sequence = X[-1]\n",
    "for i in range(7):\n",
    "    current_sequence = current_sequence.reshape(1, time_steps, 4)\n",
    "    next_prediction = model.predict(current_sequence)\n",
    "    last_date = df2['Date'].max()\n",
    "    next_date = last_date + datetime.timedelta(days=1)\n",
    "    predictions.append((next_date, next_prediction[0, 0]))\n",
    "    new_prediction = np.array([[next_prediction[0, 0], 0, 0, 0]]).reshape(1, 1, 4)\n",
    "    current_sequence = np.concatenate([current_sequence[:, 1:, :], new_prediction], axis=1)\n",
    "\n",
    "# Odwrócenie skali i wyświetlenie wyników\n",
    "predictions = scaler.inverse_transform(np.array(predictions)[:, 1].reshape(-1, 1))\n",
    "date_range = pd.date_range(start=df2['Date'].max(), periods=7, freq='D')\n",
    "predictions_with_dates = pd.DataFrame({'Date': date_range, 'Price': predictions.flatten()})\n",
    "print(\"\\nPrzewidywane ceny na najbliższe 7 dni:\\n\", predictions_with_dates)\n"
   ]
  },
  {
   "cell_type": "code",
   "execution_count": 243,
   "metadata": {},
   "outputs": [
    {
     "name": "stdout",
     "output_type": "stream",
     "text": [
      "1/1 [==============================] - 1s 1s/step\n",
      "1/1 [==============================] - 0s 23ms/step\n",
      "1/1 [==============================] - 0s 24ms/step\n",
      "1/1 [==============================] - 0s 22ms/step\n",
      "1/1 [==============================] - 0s 21ms/step\n",
      "1/1 [==============================] - 0s 23ms/step\n",
      "1/1 [==============================] - 0s 22ms/step\n"
     ]
    },
    {
     "name": "stderr",
     "output_type": "stream",
     "text": [
      "C:\\Users\\mreliga\\AppData\\Local\\Temp\\ipykernel_2564\\2966324061.py:30: SettingWithCopyWarning: \n",
      "A value is trying to be set on a copy of a slice from a DataFrame.\n",
      "Try using .loc[row_indexer,col_indexer] = value instead\n",
      "\n",
      "See the caveats in the documentation: https://pandas.pydata.org/pandas-docs/stable/user_guide/indexing.html#returning-a-view-versus-a-copy\n",
      "  historical_data['Price'] = scaler.inverse_transform(historical_data['Price'].values.reshape(-1, 1))\n"
     ]
    },
    {
     "data": {
      "image/png": "[encoded data removed]",
      "text/plain": [
       "<Figure size 864x432 with 1 Axes>"
      ]
     },
     "metadata": {
      "needs_background": "light"
     },
     "output_type": "display_data"
    }
   ],
   "source": [
    "import datetime\n",
    "import pandas as pd\n",
    "import matplotlib.pyplot as plt\n",
    "\n",
    "# Konwertowanie kolumny 'Date' na obiekt datetime\n",
    "df2['Date'] = pd.to_datetime(df2['Date'])\n",
    "df2 = df2.sort_values(by='Date', ascending=False)\n",
    "\n",
    "# Wczytanie modelu\n",
    "model = load_model('model.h5')\n",
    "\n",
    "# Tworzenie sekwencji czasowych\n",
    "time_steps = 10\n",
    "X, y = create_sequences(df2[['Price', 'Open', 'High', 'Low']], df2['Price'], time_steps)\n",
    "\n",
    "# Przewidywanie cen na kolejne 7 dni\n",
    "predictions = []\n",
    "current_sequence = X[-1]\n",
    "for i in range(7):\n",
    "    current_sequence = current_sequence.reshape(1, time_steps, 4)\n",
    "    next_prediction = model.predict(current_sequence)\n",
    "    last_date = df2['Date'].max()\n",
    "    next_date = last_date + datetime.timedelta(days=1)\n",
    "    predictions.append((next_date, next_prediction[0, 0]))\n",
    "    new_prediction = np.array([[next_prediction[0, 0], 0, 0, 0]]).reshape(1, 1, 4)\n",
    "    current_sequence = np.concatenate([current_sequence[:, 1:, :], new_prediction], axis=1)\n",
    "\n",
    "# Odwrócenie skali i przygotowanie danych do wykresu\n",
    "historical_data = df2.head(time_steps)\n",
    "historical_data['Price'] = scaler.inverse_transform(historical_data['Price'].values.reshape(-1, 1))\n",
    "historical_data = historical_data.set_index('Date')\n",
    "predictions = scaler.inverse_transform(np.array(predictions)[:, 1].reshape(-1, 1))\n",
    "date_range = pd.date_range(start=df2['Date'].max(), periods=7, freq='D')\n",
    "predictions_with_dates = pd.DataFrame({'Date': date_range, 'Price': predictions.flatten()})\n",
    "predictions_with_dates = predictions_with_dates.set_index('Date')\n",
    "\n",
    "# Wyświetlenie danych na wykresie\n",
    "fig, ax = plt.subplots(figsize=(12, 6))\n",
    "ax.plot(historical_data['Price'], label='Ceny historyczne')\n",
    "ax.plot(predictions_with_dates['Price'], label='Przewidywane ceny')\n",
    "ax.set_xlabel('Data')\n",
    "ax.set_ylabel('Cena')\n",
    "ax.set_title('Ceny historyczne i przewidywane ceny')\n",
    "ax.legend()\n",
    "plt.show();\n"
   ]
  }
 ],
 "metadata": {
  "kernelspec": {
   "display_name": "base",
   "language": "python",
   "name": "python3"
  },
  "language_info": {
   "codemirror_mode": {
    "name": "ipython",
    "version": 3
   },
   "file_extension": ".py",
   "mimetype": "text/x-python",
   "name": "python",
   "nbconvert_exporter": "python",
   "pygments_lexer": "ipython3",
   "version": "3.9.12"
  },
  "orig_nbformat": 4,
  "vscode": {
   "interpreter": {
    "hash": "1af9059b290fdfb768d19db47f0c890aa8e7e36c4739f9669e9a281b60f8911f"
   }
  }
 },
 "nbformat": 4,
 "nbformat_minor": 2
}
