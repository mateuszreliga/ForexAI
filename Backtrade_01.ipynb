{
 "cells": [
  {
   "cell_type": "code",
   "execution_count": 33,
   "metadata": {},
   "outputs": [],
   "source": [
    "import backtrader as bt\n",
    "import pandas as pd\n",
    "import numpy as np"
   ]
  },
  {
   "cell_type": "code",
   "execution_count": 34,
   "metadata": {},
   "outputs": [
    {
     "name": "stdout",
     "output_type": "stream",
     "text": [
      "Starting Portfolio Value: 10000.00\n",
      "Ending Portfolio Value: nan\n"
     ]
    },
    {
     "ename": "ValueError",
     "evalue": "Axis limits cannot be NaN or Inf",
     "output_type": "error",
     "traceback": [
      "\u001b[1;31m---------------------------------------------------------------------------\u001b[0m",
      "\u001b[1;31mValueError\u001b[0m                                Traceback (most recent call last)",
      "\u001b[1;32mc:\\Users\\mreliga\\OneDrive - PGS Software S.A\\Pulpit\\my_project\\ForexAI\\Backtrade_01.ipynb Cell 2\u001b[0m in \u001b[0;36m<cell line: 25>\u001b[1;34m()\u001b[0m\n\u001b[0;32m     <a href='vscode-notebook-cell:/c%3A/Users/mreliga/OneDrive%20-%20PGS%20Software%20S.A/Pulpit/my_project/ForexAI/Backtrade_01.ipynb#W0sZmlsZQ%3D%3D?line=61'>62</a>\u001b[0m \u001b[39mprint\u001b[39m(\u001b[39m\"\u001b[39m\u001b[39mEnding Portfolio Value: \u001b[39m\u001b[39m%.2f\u001b[39;00m\u001b[39m\"\u001b[39m \u001b[39m%\u001b[39m cerebro\u001b[39m.\u001b[39mbroker\u001b[39m.\u001b[39mgetvalue())\n\u001b[0;32m     <a href='vscode-notebook-cell:/c%3A/Users/mreliga/OneDrive%20-%20PGS%20Software%20S.A/Pulpit/my_project/ForexAI/Backtrade_01.ipynb#W0sZmlsZQ%3D%3D?line=63'>64</a>\u001b[0m \u001b[39m# Plot the results\u001b[39;00m\n\u001b[1;32m---> <a href='vscode-notebook-cell:/c%3A/Users/mreliga/OneDrive%20-%20PGS%20Software%20S.A/Pulpit/my_project/ForexAI/Backtrade_01.ipynb#W0sZmlsZQ%3D%3D?line=64'>65</a>\u001b[0m cerebro\u001b[39m.\u001b[39;49mplot()\n",
      "File \u001b[1;32mc:\\Users\\mreliga\\Anaconda3\\lib\\site-packages\\backtrader\\cerebro.py:994\u001b[0m, in \u001b[0;36mCerebro.plot\u001b[1;34m(self, plotter, numfigs, iplot, start, end, width, height, dpi, tight, use, **kwargs)\u001b[0m\n\u001b[0;32m    992\u001b[0m \u001b[39mfor\u001b[39;00m stratlist \u001b[39min\u001b[39;00m \u001b[39mself\u001b[39m\u001b[39m.\u001b[39mrunstrats:\n\u001b[0;32m    993\u001b[0m     \u001b[39mfor\u001b[39;00m si, strat \u001b[39min\u001b[39;00m \u001b[39menumerate\u001b[39m(stratlist):\n\u001b[1;32m--> 994\u001b[0m         rfig \u001b[39m=\u001b[39m plotter\u001b[39m.\u001b[39;49mplot(strat, figid\u001b[39m=\u001b[39;49msi \u001b[39m*\u001b[39;49m \u001b[39m100\u001b[39;49m,\n\u001b[0;32m    995\u001b[0m                             numfigs\u001b[39m=\u001b[39;49mnumfigs, iplot\u001b[39m=\u001b[39;49miplot,\n\u001b[0;32m    996\u001b[0m                             start\u001b[39m=\u001b[39;49mstart, end\u001b[39m=\u001b[39;49mend, use\u001b[39m=\u001b[39;49muse)\n\u001b[0;32m    997\u001b[0m         \u001b[39m# pfillers=pfillers2)\u001b[39;00m\n\u001b[0;32m    999\u001b[0m         figs\u001b[39m.\u001b[39mappend(rfig)\n",
      "File \u001b[1;32mc:\\Users\\mreliga\\Anaconda3\\lib\\site-packages\\backtrader\\plot\\plot.py:223\u001b[0m, in \u001b[0;36mPlot_OldSync.plot\u001b[1;34m(self, strategy, figid, numfigs, iplot, start, end, **kwargs)\u001b[0m\n\u001b[0;32m    215\u001b[0m \u001b[39mfor\u001b[39;00m ind \u001b[39min\u001b[39;00m \u001b[39mself\u001b[39m\u001b[39m.\u001b[39mdplotsup[data]:\n\u001b[0;32m    216\u001b[0m     \u001b[39mself\u001b[39m\u001b[39m.\u001b[39mplotind(\n\u001b[0;32m    217\u001b[0m         data,\n\u001b[0;32m    218\u001b[0m         ind,\n\u001b[0;32m    219\u001b[0m         subinds\u001b[39m=\u001b[39m\u001b[39mself\u001b[39m\u001b[39m.\u001b[39mdplotsover[ind],\n\u001b[0;32m    220\u001b[0m         upinds\u001b[39m=\u001b[39m\u001b[39mself\u001b[39m\u001b[39m.\u001b[39mdplotsup[ind],\n\u001b[0;32m    221\u001b[0m         downinds\u001b[39m=\u001b[39m\u001b[39mself\u001b[39m\u001b[39m.\u001b[39mdplotsdown[ind])\n\u001b[1;32m--> 223\u001b[0m \u001b[39mself\u001b[39;49m\u001b[39m.\u001b[39;49mplotdata(data, \u001b[39mself\u001b[39;49m\u001b[39m.\u001b[39;49mdplotsover[data])\n\u001b[0;32m    225\u001b[0m \u001b[39mfor\u001b[39;00m ind \u001b[39min\u001b[39;00m \u001b[39mself\u001b[39m\u001b[39m.\u001b[39mdplotsdown[data]:\n\u001b[0;32m    226\u001b[0m     \u001b[39mself\u001b[39m\u001b[39m.\u001b[39mplotind(\n\u001b[0;32m    227\u001b[0m         data,\n\u001b[0;32m    228\u001b[0m         ind,\n\u001b[0;32m    229\u001b[0m         subinds\u001b[39m=\u001b[39m\u001b[39mself\u001b[39m\u001b[39m.\u001b[39mdplotsover[ind],\n\u001b[0;32m    230\u001b[0m         upinds\u001b[39m=\u001b[39m\u001b[39mself\u001b[39m\u001b[39m.\u001b[39mdplotsup[ind],\n\u001b[0;32m    231\u001b[0m         downinds\u001b[39m=\u001b[39m\u001b[39mself\u001b[39m\u001b[39m.\u001b[39mdplotsdown[ind])\n",
      "File \u001b[1;32mc:\\Users\\mreliga\\Anaconda3\\lib\\site-packages\\backtrader\\plot\\plot.py:674\u001b[0m, in \u001b[0;36mPlot_OldSync.plotdata\u001b[1;34m(self, data, indicators)\u001b[0m\n\u001b[0;32m    672\u001b[0m axdatamaster \u001b[39m=\u001b[39m \u001b[39mNone\u001b[39;00m\n\u001b[0;32m    673\u001b[0m \u001b[39mif\u001b[39;00m \u001b[39mself\u001b[39m\u001b[39m.\u001b[39mpinf\u001b[39m.\u001b[39msch\u001b[39m.\u001b[39mvolume \u001b[39mand\u001b[39;00m voloverlay:\n\u001b[1;32m--> 674\u001b[0m     volplot \u001b[39m=\u001b[39m \u001b[39mself\u001b[39;49m\u001b[39m.\u001b[39;49mplotvolume(\n\u001b[0;32m    675\u001b[0m         data, opens, highs, lows, closes, volumes, vollabel)\n\u001b[0;32m    676\u001b[0m     axvol \u001b[39m=\u001b[39m \u001b[39mself\u001b[39m\u001b[39m.\u001b[39mpinf\u001b[39m.\u001b[39mdaxis[data\u001b[39m.\u001b[39mvolume]\n\u001b[0;32m    677\u001b[0m     ax \u001b[39m=\u001b[39m axvol\u001b[39m.\u001b[39mtwinx()\n",
      "File \u001b[1;32mc:\\Users\\mreliga\\Anaconda3\\lib\\site-packages\\backtrader\\plot\\plot.py:617\u001b[0m, in \u001b[0;36mPlot_OldSync.plotvolume\u001b[1;34m(self, data, opens, highs, lows, closes, volumes, label)\u001b[0m\n\u001b[0;32m    614\u001b[0m     prune \u001b[39m=\u001b[39m \u001b[39mNone\u001b[39;00m\n\u001b[0;32m    616\u001b[0m     volylim \u001b[39m/\u001b[39m\u001b[39m=\u001b[39m \u001b[39mself\u001b[39m\u001b[39m.\u001b[39mpinf\u001b[39m.\u001b[39msch\u001b[39m.\u001b[39mvolscaling\n\u001b[1;32m--> 617\u001b[0m     ax\u001b[39m.\u001b[39;49mset_ylim(\u001b[39m0\u001b[39;49m, volylim, auto\u001b[39m=\u001b[39;49m\u001b[39mTrue\u001b[39;49;00m)\n\u001b[0;32m    618\u001b[0m \u001b[39melse\u001b[39;00m:\n\u001b[0;32m    619\u001b[0m     \u001b[39m# plot a legend\u001b[39;00m\n\u001b[0;32m    620\u001b[0m     handles, labels \u001b[39m=\u001b[39m ax\u001b[39m.\u001b[39mget_legend_handles_labels()\n",
      "File \u001b[1;32mc:\\Users\\mreliga\\Anaconda3\\lib\\site-packages\\matplotlib\\axes\\_base.py:4019\u001b[0m, in \u001b[0;36m_AxesBase.set_ylim\u001b[1;34m(self, bottom, top, emit, auto, ymin, ymax)\u001b[0m\n\u001b[0;32m   4017\u001b[0m \u001b[39mself\u001b[39m\u001b[39m.\u001b[39m_process_unit_info([(\u001b[39m\"\u001b[39m\u001b[39my\u001b[39m\u001b[39m\"\u001b[39m, (bottom, top))], convert\u001b[39m=\u001b[39m\u001b[39mFalse\u001b[39;00m)\n\u001b[0;32m   4018\u001b[0m bottom \u001b[39m=\u001b[39m \u001b[39mself\u001b[39m\u001b[39m.\u001b[39m_validate_converted_limits(bottom, \u001b[39mself\u001b[39m\u001b[39m.\u001b[39mconvert_yunits)\n\u001b[1;32m-> 4019\u001b[0m top \u001b[39m=\u001b[39m \u001b[39mself\u001b[39;49m\u001b[39m.\u001b[39;49m_validate_converted_limits(top, \u001b[39mself\u001b[39;49m\u001b[39m.\u001b[39;49mconvert_yunits)\n\u001b[0;32m   4021\u001b[0m \u001b[39mif\u001b[39;00m bottom \u001b[39mis\u001b[39;00m \u001b[39mNone\u001b[39;00m \u001b[39mor\u001b[39;00m top \u001b[39mis\u001b[39;00m \u001b[39mNone\u001b[39;00m:\n\u001b[0;32m   4022\u001b[0m     \u001b[39m# Axes init calls set_ylim(0, 1) before get_ylim() can be called,\u001b[39;00m\n\u001b[0;32m   4023\u001b[0m     \u001b[39m# so only grab the limits if we really need them.\u001b[39;00m\n\u001b[0;32m   4024\u001b[0m     old_bottom, old_top \u001b[39m=\u001b[39m \u001b[39mself\u001b[39m\u001b[39m.\u001b[39mget_ylim()\n",
      "File \u001b[1;32mc:\\Users\\mreliga\\Anaconda3\\lib\\site-packages\\matplotlib\\axes\\_base.py:3605\u001b[0m, in \u001b[0;36m_AxesBase._validate_converted_limits\u001b[1;34m(self, limit, convert)\u001b[0m\n\u001b[0;32m   3602\u001b[0m converted_limit \u001b[39m=\u001b[39m convert(limit)\n\u001b[0;32m   3603\u001b[0m \u001b[39mif\u001b[39;00m (\u001b[39misinstance\u001b[39m(converted_limit, Real)\n\u001b[0;32m   3604\u001b[0m         \u001b[39mand\u001b[39;00m \u001b[39mnot\u001b[39;00m np\u001b[39m.\u001b[39misfinite(converted_limit)):\n\u001b[1;32m-> 3605\u001b[0m     \u001b[39mraise\u001b[39;00m \u001b[39mValueError\u001b[39;00m(\u001b[39m\"\u001b[39m\u001b[39mAxis limits cannot be NaN or Inf\u001b[39m\u001b[39m\"\u001b[39m)\n\u001b[0;32m   3606\u001b[0m \u001b[39mreturn\u001b[39;00m converted_limit\n",
      "\u001b[1;31mValueError\u001b[0m: Axis limits cannot be NaN or Inf"
     ]
    }
   ],
   "source": [
    "\n",
    "\n",
    "class SimpleMovingAverageStrategy(bt.Strategy):\n",
    "    params = (\n",
    "        (\"short_period\", 5),\n",
    "        (\"long_period\", 20),\n",
    "        (\"risk_factor\", 0.01),\n",
    "    )\n",
    "\n",
    "    def __init__(self):\n",
    "        self.short_ma = bt.indicators.SimpleMovingAverage(self.data.close, period=self.params.short_period)\n",
    "        self.long_ma = bt.indicators.SimpleMovingAverage(self.data.close, period=self.params.long_period)\n",
    "        self.crossover = bt.indicators.CrossOver(self.short_ma, self.long_ma)\n",
    "        self.bar_executed = None\n",
    "\n",
    "    def next(self):\n",
    "        if self.crossover > 0 and not self.position:  # Golden cross - short MA crosses above long MA\n",
    "            amount_to_invest = (self.broker.get_cash() * self.params.risk_factor)\n",
    "            self.size = amount_to_invest / self.data.close\n",
    "            self.buy(size=self.size)\n",
    "            self.bar_executed = len(self)\n",
    "\n",
    "        if self.position and (self.crossover < 0 or len(self) - self.bar_executed >= 5):  # Death cross or position open for 5 days\n",
    "            self.close()\n",
    "            self.bar_executed = None\n",
    "\n",
    "if __name__ == \"__main__\":\n",
    "    # Load data\n",
    "    df = pd.read_csv(\"USD_PLN Historical Data.csv\")\n",
    "\n",
    "    # Ensure the 'Date' column is in datetime format\n",
    "    df['Date'] = pd.to_datetime(df['Date'], errors='coerce')\n",
    "\n",
    "    # Drop the \"Vol.\" column if it exists\n",
    "    if \"Vol.\" in df.columns:\n",
    "        df.drop(\"Vol.\", axis=1, inplace=True)\n",
    "\n",
    "    # Remove NaN and infinite values\n",
    "    df.replace([np.inf, -np.inf], np.nan, inplace=True)\n",
    "    df.dropna(inplace=True)\n",
    "\n",
    "    df.set_index('Date', inplace=True)\n",
    "    df = df.iloc[::-1]  # Reverse the dataframe to have oldest data first\n",
    "    data = bt.feeds.PandasData(dataname=df)\n",
    "\n",
    "    # Create a Backtrader Cerebro engine\n",
    "    cerebro = bt.Cerebro()\n",
    "\n",
    "    # Add data and strategy to the engine\n",
    "    cerebro.adddata(data)\n",
    "    cerebro.addstrategy(SimpleMovingAverageStrategy)\n",
    "\n",
    "    # Set broker parameters\n",
    "    cerebro.broker.set_cash(10000)  # Starting cash\n",
    "    cerebro.broker.setcommission(commission=0.001)  # 0.1% commission\n",
    "\n",
    "    # Print starting conditions\n",
    "    print(\"Starting Portfolio Value: %.2f\" % cerebro.broker.getvalue())\n",
    "\n",
    "    # Run the strategy\n",
    "    cerebro.run()\n",
    "\n",
    "    # Print final conditions\n",
    "    print(\"Ending Portfolio Value: %.2f\" % cerebro.broker.getvalue())\n",
    "\n",
    "    # Plot the results\n",
    "    cerebro.plot()\n",
    "\n"
   ]
  }
 ],
 "metadata": {
  "kernelspec": {
   "display_name": "base",
   "language": "python",
   "name": "python3"
  },
  "language_info": {
   "codemirror_mode": {
    "name": "ipython",
    "version": 3
   },
   "file_extension": ".py",
   "mimetype": "text/x-python",
   "name": "python",
   "nbconvert_exporter": "python",
   "pygments_lexer": "ipython3",
   "version": "3.9.12"
  },
  "orig_nbformat": 4
 },
 "nbformat": 4,
 "nbformat_minor": 2
}
